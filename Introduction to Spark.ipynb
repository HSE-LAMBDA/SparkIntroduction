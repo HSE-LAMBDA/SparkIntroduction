{
 "cells": [
  {
   "cell_type": "markdown",
   "metadata": {},
   "source": [
    "# Introduction to Spark\n",
    "__Note__: this notebook should be launched under `pyspark` directed to IPython notebook as python interpreter (see https://spark.apache.org/docs/0.9.1/python-programming-guide.html)."
   ]
  },
  {
   "cell_type": "code",
   "execution_count": 2,
   "metadata": {
    "collapsed": false
   },
   "outputs": [],
   "source": [
    "%matplotlib inline\n",
    "import pyspark\n",
    "\n",
    "import matplotlib.pyplot as plt\n",
    "import numpy as np\n",
    "import scipy\n",
    "\n",
    "import re"
   ]
  },
  {
   "cell_type": "markdown",
   "metadata": {},
   "source": [
    "## A little bit of FP\n",
    "\n",
    "Actually Python is not a good example of functional language"
   ]
  },
  {
   "cell_type": "code",
   "execution_count": 3,
   "metadata": {
    "collapsed": false
   },
   "outputs": [],
   "source": [
    "xs = range(5)"
   ]
  },
  {
   "cell_type": "code",
   "execution_count": 4,
   "metadata": {
    "collapsed": false
   },
   "outputs": [
    {
     "data": {
      "text/plain": [
       "[0, 1, 4, 9, 16]"
      ]
     },
     "execution_count": 4,
     "metadata": {},
     "output_type": "execute_result"
    }
   ],
   "source": [
    "map(lambda x: x*x, xs)"
   ]
  },
  {
   "cell_type": "code",
   "execution_count": 5,
   "metadata": {
    "collapsed": false
   },
   "outputs": [
    {
     "data": {
      "text/plain": [
       "0.008333333333333333"
      ]
     },
     "execution_count": 5,
     "metadata": {},
     "output_type": "execute_result"
    }
   ],
   "source": [
    "reduce(lambda acc, x: acc  / (x + 1), xs, 1.0)"
   ]
  },
  {
   "cell_type": "code",
   "execution_count": 6,
   "metadata": {
    "collapsed": false
   },
   "outputs": [
    {
     "data": {
      "text/plain": [
       "[1, 4]"
      ]
     },
     "execution_count": 6,
     "metadata": {},
     "output_type": "execute_result"
    }
   ],
   "source": [
    "filter(lambda x: x % 3 == 1, xs)"
   ]
  },
  {
   "cell_type": "markdown",
   "metadata": {},
   "source": [
    "## Basic RDD operations"
   ]
  },
  {
   "cell_type": "markdown",
   "metadata": {},
   "source": [
    "### RDD creation"
   ]
  },
  {
   "cell_type": "code",
   "execution_count": 7,
   "metadata": {
    "collapsed": false
   },
   "outputs": [],
   "source": [
    "from pyspark import SparkContext"
   ]
  },
  {
   "cell_type": "code",
   "execution_count": 8,
   "metadata": {
    "collapsed": false
   },
   "outputs": [],
   "source": [
    "sc = SparkContext()"
   ]
  },
  {
   "cell_type": "code",
   "execution_count": 9,
   "metadata": {
    "collapsed": false
   },
   "outputs": [],
   "source": [
    "nums = sc.parallelize(xrange(0, 25)).persist()\n",
    "text = sc.textFile(\"file:///root/notebook/Sherlock.txt\").persist()"
   ]
  },
  {
   "cell_type": "markdown",
   "metadata": {},
   "source": [
    "### Simple RDD operations"
   ]
  },
  {
   "cell_type": "code",
   "execution_count": 10,
   "metadata": {
    "collapsed": false
   },
   "outputs": [
    {
     "name": "stdout",
     "output_type": "stream",
     "text": [
      "[1, 2, 3, 4, 5, 6, 7, 8, 9, 10, 11, 12, 13, 14, 15, 16, 17, 18, 19, 20, 21, 22, 23, 24, 25]\n"
     ]
    }
   ],
   "source": [
    "print nums.map(lambda x: x + 1).collect()"
   ]
  },
  {
   "cell_type": "code",
   "execution_count": 11,
   "metadata": {
    "collapsed": false
   },
   "outputs": [
    {
     "data": {
      "text/plain": [
       "[u'project',\n",
       " u\"gutenberg's\",\n",
       " u'the',\n",
       " u'adventures',\n",
       " u'of',\n",
       " u'sherlock',\n",
       " u'holmes',\n",
       " u'by',\n",
       " u'arthur',\n",
       " u'conan']"
      ]
     },
     "execution_count": 11,
     "metadata": {},
     "output_type": "execute_result"
    }
   ],
   "source": [
    "words = text.flatMap(lambda x: re.findall(\"[a-zA-z']+\", x)).map(lambda x: x.strip().lower()).persist()\n",
    "words.take(10)"
   ]
  },
  {
   "cell_type": "code",
   "execution_count": 12,
   "metadata": {
    "collapsed": false
   },
   "outputs": [
    {
     "name": "stdout",
     "output_type": "stream",
     "text": [
      "[0, 2, 4, 6, 8, 10, 12, 14, 16, 18, 20, 22, 24]\n"
     ]
    }
   ],
   "source": [
    "print nums.filter(lambda x: x % 2 == 0).collect()"
   ]
  },
  {
   "cell_type": "code",
   "execution_count": 13,
   "metadata": {
    "collapsed": false
   },
   "outputs": [
    {
     "name": "stdout",
     "output_type": "stream",
     "text": [
      "[0, 2, 4, 6, 8, 10, 12, 14, 16, 18, 20, 22, 24]\n"
     ]
    }
   ],
   "source": [
    "print nums.flatMap(lambda x: [x] if x % 2 == 0 else []).collect()"
   ]
  },
  {
   "cell_type": "code",
   "execution_count": 14,
   "metadata": {
    "collapsed": false
   },
   "outputs": [
    {
     "name": "stdout",
     "output_type": "stream",
     "text": [
      " 012  345  678  91011  121314  151617  181920  21222324 \n"
     ]
    }
   ],
   "source": [
    "print nums.aggregate(\"\", lambda acc, x: acc + str(x), lambda acc1, acc2: acc1 + \" \" + acc2)"
   ]
  },
  {
   "cell_type": "code",
   "execution_count": 15,
   "metadata": {
    "collapsed": false
   },
   "outputs": [
    {
     "name": "stdout",
     "output_type": "stream",
     "text": [
      " 0123456789101112131415161718192021222324 \n"
     ]
    }
   ],
   "source": [
    "print nums.repartition(1).aggregate(\"\", lambda acc, x: acc + str(x), lambda acc1, acc2: acc1 + \" \" + acc2)"
   ]
  },
  {
   "cell_type": "code",
   "execution_count": 16,
   "metadata": {
    "collapsed": false
   },
   "outputs": [
    {
     "name": "stdout",
     "output_type": "stream",
     "text": [
      "300\n"
     ]
    }
   ],
   "source": [
    "print nums.fold(0, lambda a, b: a + b)"
   ]
  },
  {
   "cell_type": "code",
   "execution_count": 17,
   "metadata": {
    "collapsed": false
   },
   "outputs": [
    {
     "name": "stdout",
     "output_type": "stream",
     "text": [
      "300\n"
     ]
    }
   ],
   "source": [
    "print nums.reduce(lambda a, b: a + b)"
   ]
  },
  {
   "cell_type": "code",
   "execution_count": 18,
   "metadata": {
    "collapsed": false
   },
   "outputs": [
    {
     "name": "stdout",
     "output_type": "stream",
     "text": [
      "24 0\n"
     ]
    }
   ],
   "source": [
    "print nums.max(), nums.min()"
   ]
  },
  {
   "cell_type": "markdown",
   "metadata": {},
   "source": [
    "### Pair RDD operations"
   ]
  },
  {
   "cell_type": "code",
   "execution_count": 19,
   "metadata": {
    "collapsed": false
   },
   "outputs": [
    {
     "data": {
      "text/plain": [
       "[(u'aided', 1),\n",
       " (u'hollowed', 1),\n",
       " (u'augustine', 1),\n",
       " (u'believed', 3),\n",
       " (u'hats', 1),\n",
       " (u'crumpled', 3),\n",
       " (u'yellow', 15),\n",
       " (u'four', 38),\n",
       " (u'grosvenor', 2),\n",
       " (u'sleep', 11)]"
      ]
     },
     "execution_count": 19,
     "metadata": {},
     "output_type": "execute_result"
    }
   ],
   "source": [
    "words.map(lambda w: (w, 1)).groupByKey().map(lambda (w, c): (w, sum(list(c)))).take(10)"
   ]
  },
  {
   "cell_type": "code",
   "execution_count": 20,
   "metadata": {
    "collapsed": false
   },
   "outputs": [
    {
     "data": {
      "text/plain": [
       "[(u'aided', 1),\n",
       " (u'hollowed', 1),\n",
       " (u'augustine', 1),\n",
       " (u'believed', 3),\n",
       " (u'hats', 1),\n",
       " (u'crumpled', 3),\n",
       " (u'yellow', 15),\n",
       " (u'four', 38),\n",
       " (u'grosvenor', 2),\n",
       " (u'sleep', 11),\n",
       " (u'keeper', 11),\n",
       " (u\"friend's\", 10),\n",
       " (u'scheming', 1),\n",
       " (u'pheasant', 1),\n",
       " (u'saved', 9),\n",
       " (u'swag', 1),\n",
       " (u'pointing', 7),\n",
       " (u'granting', 1),\n",
       " (u'paris', 1),\n",
       " (u'characterises', 1)]"
      ]
     },
     "execution_count": 20,
     "metadata": {},
     "output_type": "execute_result"
    }
   ],
   "source": [
    "count = words.map(lambda w: (w, 1)).reduceByKey(lambda c1, c2: c1 + c2).persist()\n",
    "count.take(20)"
   ]
  },
  {
   "cell_type": "markdown",
   "metadata": {},
   "source": [
    "### RDD to RDD operations"
   ]
  },
  {
   "cell_type": "code",
   "execution_count": 21,
   "metadata": {
    "collapsed": false
   },
   "outputs": [
    {
     "data": {
      "text/plain": [
       "[(u'aided', 5),\n",
       " (u'hollowed', 8),\n",
       " (u'augustine', 9),\n",
       " (u'believed', 8),\n",
       " (u'hats', 4),\n",
       " (u'crumpled', 8),\n",
       " (u'yellow', 6),\n",
       " (u'four', 4),\n",
       " (u'grosvenor', 9),\n",
       " (u'sleep', 5)]"
      ]
     },
     "execution_count": 21,
     "metadata": {},
     "output_type": "execute_result"
    }
   ],
   "source": [
    "wordsLen = words.distinct().map(lambda w: (w, len(w))).persist()\n",
    "wordsLen.take(10)"
   ]
  },
  {
   "cell_type": "code",
   "execution_count": 22,
   "metadata": {
    "collapsed": false
   },
   "outputs": [
    {
     "data": {
      "text/plain": [
       "[(u'aided', [1], [5]),\n",
       " (u'four', [38], [4]),\n",
       " (u'sleep', [11], [5]),\n",
       " (u'mansion', [1], [7]),\n",
       " (u'pheasant', [1], [8]),\n",
       " (u'saved', [9], [5]),\n",
       " (u'kempt', [1], [5]),\n",
       " (u'paris', [1], [5]),\n",
       " (u'characterises', [1], [13]),\n",
       " (u'originality', [1], [11])]"
      ]
     },
     "execution_count": 22,
     "metadata": {},
     "output_type": "execute_result"
    }
   ],
   "source": [
    "count.cogroup(wordsLen).map( lambda (w, (counts, lens)): (w, list(counts), list(lens)) ).take(10)"
   ]
  },
  {
   "cell_type": "code",
   "execution_count": 23,
   "metadata": {
    "collapsed": false
   },
   "outputs": [
    {
     "data": {
      "text/plain": [
       "[(u'aided', (1, 5)),\n",
       " (u'four', (38, 4)),\n",
       " (u'sleep', (11, 5)),\n",
       " (u'mansion', (1, 7)),\n",
       " (u'pheasant', (1, 8)),\n",
       " (u'saved', (9, 5)),\n",
       " (u'kempt', (1, 5)),\n",
       " (u'paris', (1, 5)),\n",
       " (u'characterises', (1, 13)),\n",
       " (u'originality', (1, 11))]"
      ]
     },
     "execution_count": 23,
     "metadata": {},
     "output_type": "execute_result"
    }
   ],
   "source": [
    "count.join(wordsLen).take(10)"
   ]
  },
  {
   "cell_type": "markdown",
   "metadata": {},
   "source": [
    "## Word count "
   ]
  },
  {
   "cell_type": "code",
   "execution_count": 24,
   "metadata": {
    "collapsed": false
   },
   "outputs": [
    {
     "name": "stdout",
     "output_type": "stream",
     "text": [
      "the \t5796\n",
      "and \t3069\n",
      "i \t2961\n",
      "to \t2820\n",
      "of \t2778\n",
      "a \t2697\n",
      "in \t1821\n",
      "that \t1751\n",
      "it \t1705\n",
      "you \t1520\n"
     ]
    }
   ],
   "source": [
    "wordCount = sc.textFile(\"file:///root/notebook/Sherlock.txt\").flatMap(\n",
    "    lambda x: re.findall(\"[a-zA-z']+\", x)\n",
    ").map(\n",
    "    lambda x: x.strip().lower()\n",
    ").map(\n",
    "    lambda w: (w, 1l)\n",
    ").reduceByKey(\n",
    "    lambda c1, c2: c1 + c2\n",
    ").persist()\n",
    "\n",
    "### Find top N words\n",
    "def top(N):\n",
    "    def reducer(wc1, wc2):\n",
    "        wc = wc1 + wc2\n",
    "        return sorted(wc, key = lambda wc: -wc[1])[:N]\n",
    "    return reducer\n",
    "\n",
    "top10 = wordCount.map(lambda wc: [wc]).reduce(top(10))\n",
    "\n",
    "for word, c in top10:\n",
    "    print word, \"\\t\" , c"
   ]
  },
  {
   "cell_type": "markdown",
   "metadata": {},
   "source": [
    "### Zipf's law"
   ]
  },
  {
   "cell_type": "code",
   "execution_count": 25,
   "metadata": {
    "collapsed": false
   },
   "outputs": [
    {
     "data": {
      "text/plain": [
       "<Container object of 250 artists>"
      ]
     },
     "execution_count": 25,
     "metadata": {},
     "output_type": "execute_result"
    },
    {
     "data": {
      "image/png": "[encoded data removed]",
      "text/plain": [
       "<matplotlib.figure.Figure at 0x4df7710>"
      ]
     },
     "metadata": {},
     "output_type": "display_data"
    }
   ],
   "source": [
    "top250 = wordCount.map(lambda wc: [wc]).reduce(top(250))\n",
    "plt.bar(range(250), sorted([ c for w, c in top250 ], reverse=True)[:250], color=\"green\", edgecolor=\"green\")"
   ]
  },
  {
   "cell_type": "code",
   "execution_count": 26,
   "metadata": {
    "collapsed": false
   },
   "outputs": [],
   "source": [
    "freqByLen = sorted (\n",
    "    wordCount.map(\n",
    "        lambda (w, c): (len(w), c)\n",
    "    ).reduceByKey(\n",
    "        lambda c1, c2: c1 + c2\n",
    "    ).collect(),\n",
    "\n",
    "    key = lambda (l, c): l\n",
    ")"
   ]
  },
  {
   "cell_type": "code",
   "execution_count": 27,
   "metadata": {
    "collapsed": false
   },
   "outputs": [
    {
     "data": {
      "text/plain": [
       "<Container object of 18 artists>"
      ]
     },
     "execution_count": 27,
     "metadata": {},
     "output_type": "execute_result"
    },
    {
     "data": {
      "image/png": "[encoded data removed]",
      "text/plain": [
       "<matplotlib.figure.Figure at 0x4df7b90>"
      ]
     },
     "metadata": {},
     "output_type": "display_data"
    }
   ],
   "source": [
    "plt.bar(range(len(freqByLen)), [ c for (l, c) in freqByLen], color=\"red\")"
   ]
  },
  {
   "cell_type": "markdown",
   "metadata": {},
   "source": [
    "### Heap's law"
   ]
  },
  {
   "cell_type": "code",
   "execution_count": 28,
   "metadata": {
    "collapsed": false
   },
   "outputs": [],
   "source": [
    "uniqsByLen = list()\n",
    "wordsN = words.count()\n",
    "samples = 10\n",
    "fractions = [ f for i in range(1, 101) for f in [i / 100.0]]\n",
    "\n",
    "counts = list()\n",
    "uniqs = list()\n",
    "for fraction in fractions:\n",
    "    sample = words.sample(withReplacement=False, fraction=fraction).persist()\n",
    "    uniq = sample.countApproxDistinct()\n",
    "    count = sample.count()\n",
    "    uniqs.append(uniq)\n",
    "    counts.append(count)\n",
    "    sample.unpersist()"
   ]
  },
  {
   "cell_type": "code",
   "execution_count": 29,
   "metadata": {
    "collapsed": false
   },
   "outputs": [
    {
     "data": {
      "image/png": "[encoded data removed]",
      "text/plain": [
       "<matplotlib.figure.Figure at 0x53c8150>"
      ]
     },
     "metadata": {},
     "output_type": "display_data"
    }
   ],
   "source": [
    "plt.figure()\n",
    "plt.plot(counts, uniqs, \".\")\n",
    "plt.show()"
   ]
  },
  {
   "cell_type": "markdown",
   "metadata": {},
   "source": [
    "# Spark MLlib"
   ]
  },
  {
   "cell_type": "code",
   "execution_count": 30,
   "metadata": {
    "collapsed": false
   },
   "outputs": [],
   "source": [
    "from pyspark.mllib.regression import LabeledPoint\n",
    "from pyspark.mllib.classification import LogisticRegressionWithSGD\n",
    "import pandas as pd"
   ]
  },
  {
   "cell_type": "markdown",
   "metadata": {},
   "source": [
    "### Load data"
   ]
  },
  {
   "cell_type": "code",
   "execution_count": 31,
   "metadata": {
    "collapsed": false
   },
   "outputs": [
    {
     "name": "stdout",
     "output_type": "stream",
     "text": [
      "N: 714\n",
      "Train positive: 140\n",
      "Train negative: 189\n",
      "Test positive: 150\n",
      "Test negative: 235\n"
     ]
    }
   ],
   "source": [
    "from math import isnan\n",
    "from operator import or_\n",
    "\n",
    "def parsePoints(df):\n",
    "    data = list()\n",
    "    for i in xrange(len(df)):\n",
    "        survived = float(df[\"Survived\"][i])\n",
    "        age = float(df[\"Age\"][i])\n",
    "        pClass = float(df[\"Pclass\"][i])\n",
    "        nameL = float(len(df[\"Name\"][i]))\n",
    "        sex = 1.0 if df[\"Sex\"][i] == \"male\" else 0.0\n",
    "        sibSp = float(df[\"SibSp\"][i])\n",
    "        parch = float(df[\"Parch\"][i])\n",
    "        fare = float(df[\"Fare\"][i])\n",
    "        features = [age, pClass, nameL, sex, sibSp, parch, fare]\n",
    "    \n",
    "        if reduce(or_, map(isnan, features)):\n",
    "            continue\n",
    "        \n",
    "        p = LabeledPoint(survived, features)\n",
    "        data.append(p)\n",
    "    return data\n",
    "\n",
    "df = pd.read_csv(\"./train.csv\")\n",
    "data = parsePoints(df)\n",
    "print \"N:\", len(data)\n",
    "train, test = sc.parallelize(data).randomSplit([0.5, 0.5], seed=2l)\n",
    "\n",
    "print \"Train positive:\", train.filter(lambda p: p.label == 1.0).count()\n",
    "print \"Train negative:\", train.filter(lambda p: p.label == 0.0).count()\n",
    "\n",
    "print \"Test positive:\", test.filter(lambda p: p.label == 1.0).count()\n",
    "print \"Test negative:\", test.filter(lambda p: p.label == 0.0).count()"
   ]
  },
  {
   "cell_type": "markdown",
   "metadata": {},
   "source": [
    "### Logistic Regression"
   ]
  },
  {
   "cell_type": "code",
   "execution_count": 32,
   "metadata": {
    "collapsed": false
   },
   "outputs": [
    {
     "data": {
      "text/plain": [
       "(weights=[-1.00213409366,-1.7844445772,0.30625711465,-2.23116982375,-1.85366804747,-1.14475229818,0.767416853271], intercept=0.0)"
      ]
     },
     "execution_count": 32,
     "metadata": {},
     "output_type": "execute_result"
    }
   ],
   "source": [
    "logisticM = LogisticRegressionWithSGD.train(train, 250)\n",
    "logisticM"
   ]
  },
  {
   "cell_type": "code",
   "execution_count": 33,
   "metadata": {
    "collapsed": false
   },
   "outputs": [
    {
     "data": {
      "text/plain": [
       "[(0, 0),\n",
       " (0, 0),\n",
       " (0, 0),\n",
       " (0, 1),\n",
       " (1, 0),\n",
       " (0, 1),\n",
       " (0, 0),\n",
       " (0, 0),\n",
       " (1, 0),\n",
       " (0, 1)]"
      ]
     },
     "execution_count": 33,
     "metadata": {},
     "output_type": "execute_result"
    }
   ],
   "source": [
    "validation = test.map(\n",
    "    lambda p: (int(round(p.label)), logisticM.predict(p.features))\n",
    ").persist()\n",
    "\n",
    "validation.take(10)"
   ]
  },
  {
   "cell_type": "code",
   "execution_count": 34,
   "metadata": {
    "collapsed": false
   },
   "outputs": [
    {
     "name": "stdout",
     "output_type": "stream",
     "text": [
      "tp: 0.19\n",
      "fp: 0.12\n",
      "tn: 0.49\n",
      "fn: 0.20\n"
     ]
    }
   ],
   "source": [
    "total = float(validation.count())\n",
    "tp = validation.filter(lambda (real, pred): real == 1 and pred == 1).count() / total\n",
    "fp = validation.filter(lambda (real, pred): real == 0 and pred == 1).count() / total\n",
    "tn = validation.filter(lambda (real, pred): real == 0 and pred == 0).count() / total\n",
    "fn = validation.filter(lambda (real, pred): real == 1 and pred == 0).count() / total\n",
    "\n",
    "print \"tp:\", \"%.2f\" % tp\n",
    "print \"fp:\", \"%.2f\" % fp\n",
    "print \"tn:\", \"%.2f\" % tn\n",
    "print \"fn:\", \"%.2f\" % fn"
   ]
  },
  {
   "cell_type": "code",
   "execution_count": 35,
   "metadata": {
    "collapsed": false
   },
   "outputs": [],
   "source": [
    "def logistic(w):\n",
    "    from math import exp\n",
    "    def predict(x):\n",
    "        z = w.dot(x)\n",
    "        return 1 / (1 + exp(-z))\n",
    "    return predict\n",
    "\n",
    "predict_proba = logistic(logisticM.weights)\n",
    "predicted_proba = test.map (\n",
    "    lambda p: (p.label, predict_proba(p.features))\n",
    ").collect()"
   ]
  },
  {
   "cell_type": "code",
   "execution_count": 36,
   "metadata": {
    "collapsed": false
   },
   "outputs": [
    {
     "data": {
      "image/png": "[encoded data removed]",
      "text/plain": [
       "<matplotlib.figure.Figure at 0x65483d0>"
      ]
     },
     "metadata": {},
     "output_type": "display_data"
    }
   ],
   "source": [
    "from sklearn.metrics import roc_curve, auc\n",
    "\n",
    "# Compute ROC curve and area the curve\n",
    "fpr, tpr, thresholds = roc_curve([ r for r, p in predicted_proba ], [ p for r, p in predicted_proba ])\n",
    "roc_auc = auc(fpr, tpr)\n",
    "\n",
    "# Plot ROC curve\n",
    "\n",
    "fig = plt.figure(figsize=(7,5))\n",
    "ax = fig.add_subplot(111)\n",
    "\n",
    "plt.plot(fpr, tpr, color='lightblue', lw=2, label='ROC curve')\n",
    "plt.plot([0, 1], [0, 1], color='black', lw=2, linestyle='dotted', label='random guessing')\n",
    "plt.xlim([0.0, 1.0])\n",
    "plt.ylim([0.0, 1.0])\n",
    "plt.xlabel('False Positive Rate')\n",
    "plt.ylabel('True Positive Rate')\n",
    "plt.title('Receiver operating characteristic (ROC)')\n",
    "plt.legend(loc=\"lower right\")\n",
    "ax.annotate('AUC = %0.2f' %roc_auc, xy=(0.35, 0.6))\n",
    "plt.show()"
   ]
  },
  {
   "cell_type": "markdown",
   "metadata": {},
   "source": [
    "### Gradient Boosting (optional)"
   ]
  },
  {
   "cell_type": "code",
   "execution_count": 37,
   "metadata": {
    "collapsed": false
   },
   "outputs": [
    {
     "data": {
      "text/plain": [
       "u'1.3.0'"
      ]
     },
     "execution_count": 37,
     "metadata": {},
     "output_type": "execute_result"
    }
   ],
   "source": [
    "sc.version"
   ]
  },
  {
   "cell_type": "code",
   "execution_count": 38,
   "metadata": {
    "collapsed": false
   },
   "outputs": [
    {
     "name": "stdout",
     "output_type": "stream",
     "text": [
      "TreeEnsembleModel regressor with 20 trees\n",
      "\n"
     ]
    }
   ],
   "source": [
    "from pyspark.mllib.tree import GradientBoostedTrees\n",
    "\n",
    "GBTModel = GradientBoostedTrees.trainRegressor(train, dict(), numIterations=20, maxDepth=3)\n",
    "print GBTModel\n",
    "testGBT = [ (p.label, GBTModel.predict(p.features)) for p in test.collect()]"
   ]
  },
  {
   "cell_type": "code",
   "execution_count": 39,
   "metadata": {
    "collapsed": false
   },
   "outputs": [
    {
     "data": {
      "image/png": "[encoded data removed]",
      "text/plain": [
       "<matplotlib.figure.Figure at 0x5d38cd0>"
      ]
     },
     "metadata": {},
     "output_type": "display_data"
    }
   ],
   "source": [
    "from sklearn.metrics import roc_curve, auc\n",
    "\n",
    "# Compute ROC curve and area the curve\n",
    "fpr, tpr, thresholds = roc_curve([ r for r, p in testGBT ], [ p for r, p in testGBT ])\n",
    "roc_auc = auc(fpr, tpr)\n",
    "\n",
    "# Plot ROC curve\n",
    "\n",
    "fig = plt.figure(figsize=(7,5))\n",
    "ax = fig.add_subplot(111)\n",
    "\n",
    "plt.plot(fpr, tpr, color='lightblue', lw=2, label='ROC curve')\n",
    "plt.plot([0, 1], [0, 1], color='black', lw=2, linestyle='dotted', label='random guessing')\n",
    "plt.xlim([0.0, 1.0])\n",
    "plt.ylim([0.0, 1.0])\n",
    "plt.xlabel('False Positive Rate')\n",
    "plt.ylabel('True Positive Rate')\n",
    "plt.title('Receiver operating characteristic (ROC)')\n",
    "plt.legend(loc=\"lower right\")\n",
    "ax.annotate('AUC = %0.2f' %roc_auc, xy=(0.35, 0.6))\n",
    "plt.show()"
   ]
  },
  {
   "cell_type": "code",
   "execution_count": null,
   "metadata": {
    "collapsed": false
   },
   "outputs": [],
   "source": []
  }
 ],
 "metadata": {
  "kernelspec": {
   "display_name": "Python 2",
   "language": "python",
   "name": "python2"
  },
  "language_info": {
   "codemirror_mode": {
    "name": "ipython",
    "version": 2
   },
   "file_extension": ".py",
   "mimetype": "text/x-python",
   "name": "python",
   "nbconvert_exporter": "python",
   "pygments_lexer": "ipython2",
   "version": "2.7.5"
  }
 },
 "nbformat": 4,
 "nbformat_minor": 0
}
