{
 "metadata": {
  "name": ""
 },
 "nbformat": 3,
 "nbformat_minor": 0,
 "worksheets": [
  {
   "cells": [
    {
     "cell_type": "markdown",
     "metadata": {},
     "source": [
      "# Introduction to Spark\n",
      "__Note__: this notebook should be launched under `pyspark` directed to IPython notebook as python interpreter (see https://spark.apache.org/docs/0.9.1/python-programming-guide.html)."
     ]
    },
    {
     "cell_type": "code",
     "collapsed": false,
     "input": [
      "%matplotlib inline\n",
      "\n",
      "import pyspark\n",
      "\n",
      "import matplotlib.pyplot as plt\n",
      "import numpy as np\n",
      "import scipy\n",
      "\n",
      "import re"
     ],
     "language": "python",
     "metadata": {},
     "outputs": [],
     "prompt_number": 3
    },
    {
     "cell_type": "markdown",
     "metadata": {},
     "source": [
      "## A little bit of FP\n",
      "\n",
      "Actually Python is not a good example of functional language"
     ]
    },
    {
     "cell_type": "code",
     "collapsed": false,
     "input": [
      "xs = range(5)"
     ],
     "language": "python",
     "metadata": {},
     "outputs": [],
     "prompt_number": 4
    },
    {
     "cell_type": "code",
     "collapsed": false,
     "input": [
      "map(lambda x: x*x, xs)"
     ],
     "language": "python",
     "metadata": {},
     "outputs": [
      {
       "metadata": {},
       "output_type": "pyout",
       "prompt_number": 5,
       "text": [
        "[0, 1, 4, 9, 16]"
       ]
      }
     ],
     "prompt_number": 5
    },
    {
     "cell_type": "code",
     "collapsed": false,
     "input": [
      "reduce(lambda acc, x: acc  / (x + 1), xs, 1.0)"
     ],
     "language": "python",
     "metadata": {},
     "outputs": [
      {
       "metadata": {},
       "output_type": "pyout",
       "prompt_number": 6,
       "text": [
        "0.008333333333333333"
       ]
      }
     ],
     "prompt_number": 6
    },
    {
     "cell_type": "code",
     "collapsed": false,
     "input": [
      "filter(lambda x: x % 3 == 1, xs)"
     ],
     "language": "python",
     "metadata": {},
     "outputs": [
      {
       "metadata": {},
       "output_type": "pyout",
       "prompt_number": 7,
       "text": [
        "[1, 4]"
       ]
      }
     ],
     "prompt_number": 7
    },
    {
     "cell_type": "markdown",
     "metadata": {},
     "source": [
      "## Basic RDD operations"
     ]
    },
    {
     "cell_type": "markdown",
     "metadata": {},
     "source": [
      "### RDD creation"
     ]
    },
    {
     "cell_type": "code",
     "collapsed": false,
     "input": [
      "nums = sc.parallelize(xrange(0, 25)).persist()\n",
      "text = sc.textFile(\"./Sherlock.txt\").persist()"
     ],
     "language": "python",
     "metadata": {},
     "outputs": [],
     "prompt_number": 8
    },
    {
     "cell_type": "markdown",
     "metadata": {},
     "source": [
      "### Simple RDD operations"
     ]
    },
    {
     "cell_type": "code",
     "collapsed": false,
     "input": [
      "print nums.map(lambda x: x + 1).collect()"
     ],
     "language": "python",
     "metadata": {},
     "outputs": [
      {
       "output_type": "stream",
       "stream": "stdout",
       "text": [
        "[1, 2, 3, 4, 5, 6, 7, 8, 9, 10, 11, 12, 13, 14, 15, 16, 17, 18, 19, 20, 21, 22, 23, 24, 25]\n"
       ]
      }
     ],
     "prompt_number": 9
    },
    {
     "cell_type": "code",
     "collapsed": false,
     "input": [
      "words = text.flatMap(lambda x: re.findall(\"[a-zA-z']+\", x)).map(lambda x: x.strip().lower()).persist()\n",
      "words.take(10)"
     ],
     "language": "python",
     "metadata": {},
     "outputs": [
      {
       "metadata": {},
       "output_type": "pyout",
       "prompt_number": 10,
       "text": [
        "[u'project',\n",
        " u\"gutenberg's\",\n",
        " u'the',\n",
        " u'adventures',\n",
        " u'of',\n",
        " u'sherlock',\n",
        " u'holmes',\n",
        " u'by',\n",
        " u'arthur',\n",
        " u'conan']"
       ]
      }
     ],
     "prompt_number": 10
    },
    {
     "cell_type": "code",
     "collapsed": false,
     "input": [
      "print nums.filter(lambda x: x % 2 == 0).collect()"
     ],
     "language": "python",
     "metadata": {},
     "outputs": [
      {
       "output_type": "stream",
       "stream": "stdout",
       "text": [
        "[0, 2, 4, 6, 8, 10, 12, 14, 16, 18, 20, 22, 24]\n"
       ]
      }
     ],
     "prompt_number": 11
    },
    {
     "cell_type": "code",
     "collapsed": false,
     "input": [
      "print nums.flatMap(lambda x: [x] if x % 2 == 0 else []).collect()"
     ],
     "language": "python",
     "metadata": {},
     "outputs": [
      {
       "output_type": "stream",
       "stream": "stdout",
       "text": [
        "[0, 2, 4, 6, 8, 10, 12, 14, 16, 18, 20, 22, 24]\n"
       ]
      }
     ],
     "prompt_number": 12
    },
    {
     "cell_type": "code",
     "collapsed": false,
     "input": [
      "print nums.aggregate(\"\", lambda acc, x: acc + str(x), lambda acc1, acc2: acc1 + \" \" + acc2)"
     ],
     "language": "python",
     "metadata": {},
     "outputs": [
      {
       "output_type": "stream",
       "stream": "stdout",
       "text": [
        " 012345  67891011  121314151617  18192021222324 \n"
       ]
      }
     ],
     "prompt_number": 13
    },
    {
     "cell_type": "code",
     "collapsed": false,
     "input": [
      "print nums.repartition(1).aggregate(\"\", lambda acc, x: acc + str(x), lambda acc1, acc2: acc1 + \" \" + acc2)"
     ],
     "language": "python",
     "metadata": {},
     "outputs": [
      {
       "output_type": "stream",
       "stream": "stdout",
       "text": [
        " 0123456789101112131415161718192021222324 \n"
       ]
      }
     ],
     "prompt_number": 14
    },
    {
     "cell_type": "code",
     "collapsed": false,
     "input": [
      "print nums.fold(0, lambda a, b: a + b)"
     ],
     "language": "python",
     "metadata": {},
     "outputs": [
      {
       "output_type": "stream",
       "stream": "stdout",
       "text": [
        "300\n"
       ]
      }
     ],
     "prompt_number": 15
    },
    {
     "cell_type": "code",
     "collapsed": false,
     "input": [
      "print nums.reduce(lambda a, b: a + b)"
     ],
     "language": "python",
     "metadata": {},
     "outputs": [
      {
       "output_type": "stream",
       "stream": "stdout",
       "text": [
        "300\n"
       ]
      }
     ],
     "prompt_number": 16
    },
    {
     "cell_type": "code",
     "collapsed": false,
     "input": [
      "print nums.max(), nums.min()"
     ],
     "language": "python",
     "metadata": {},
     "outputs": [
      {
       "output_type": "stream",
       "stream": "stdout",
       "text": [
        "24 "
       ]
      },
      {
       "output_type": "stream",
       "stream": "stdout",
       "text": [
        "0\n"
       ]
      }
     ],
     "prompt_number": 17
    },
    {
     "cell_type": "markdown",
     "metadata": {},
     "source": [
      "### Pair RDD operations"
     ]
    },
    {
     "cell_type": "code",
     "collapsed": false,
     "input": [
      "words.map(lambda w: (w, 1)).groupByKey().map(lambda (w, c): (w, sum(list(c)))).take(10)"
     ],
     "language": "python",
     "metadata": {},
     "outputs": [
      {
       "metadata": {},
       "output_type": "pyout",
       "prompt_number": 18,
       "text": [
        "[(u'aided', 1),\n",
        " (u'hollowed', 1),\n",
        " (u'augustine', 1),\n",
        " (u'believed', 3),\n",
        " (u'hats', 1),\n",
        " (u'crumpled', 3),\n",
        " (u'yellow', 15),\n",
        " (u'four', 38),\n",
        " (u'grosvenor', 2),\n",
        " (u'sleep', 11)]"
       ]
      }
     ],
     "prompt_number": 18
    },
    {
     "cell_type": "code",
     "collapsed": false,
     "input": [
      "count = words.map(lambda w: (w, 1)).reduceByKey(lambda c1, c2: c1 + c2).persist()\n",
      "count.take(20)"
     ],
     "language": "python",
     "metadata": {},
     "outputs": [
      {
       "metadata": {},
       "output_type": "pyout",
       "prompt_number": 19,
       "text": [
        "[(u'aided', 1),\n",
        " (u'hollowed', 1),\n",
        " (u'augustine', 1),\n",
        " (u'believed', 3),\n",
        " (u'hats', 1),\n",
        " (u'crumpled', 3),\n",
        " (u'yellow', 15),\n",
        " (u'four', 38),\n",
        " (u'grosvenor', 2),\n",
        " (u'sleep', 11),\n",
        " (u'keeper', 11),\n",
        " (u\"friend's\", 10),\n",
        " (u'scheming', 1),\n",
        " (u'pheasant', 1),\n",
        " (u'saved', 9),\n",
        " (u'swag', 1),\n",
        " (u'pointing', 7),\n",
        " (u'granting', 1),\n",
        " (u'paris', 1),\n",
        " (u'characterises', 1)]"
       ]
      }
     ],
     "prompt_number": 19
    },
    {
     "cell_type": "markdown",
     "metadata": {},
     "source": [
      "### RDD to RDD operations"
     ]
    },
    {
     "cell_type": "code",
     "collapsed": false,
     "input": [
      "wordsLen = words.distinct().map(lambda w: (w, len(w))).persist()\n",
      "wordsLen.take(10)"
     ],
     "language": "python",
     "metadata": {},
     "outputs": [
      {
       "metadata": {},
       "output_type": "pyout",
       "prompt_number": 20,
       "text": [
        "[(u'aided', 5),\n",
        " (u'hollowed', 8),\n",
        " (u'augustine', 9),\n",
        " (u'believed', 8),\n",
        " (u'hats', 4),\n",
        " (u'crumpled', 8),\n",
        " (u'yellow', 6),\n",
        " (u'four', 4),\n",
        " (u'grosvenor', 9),\n",
        " (u'sleep', 5)]"
       ]
      }
     ],
     "prompt_number": 20
    },
    {
     "cell_type": "code",
     "collapsed": false,
     "input": [
      "count.cogroup(wordsLen).map( lambda (w, (counts, lens)): (w, list(counts), list(lens)) ).take(10)"
     ],
     "language": "python",
     "metadata": {},
     "outputs": [
      {
       "metadata": {},
       "output_type": "pyout",
       "prompt_number": 21,
       "text": [
        "[(u'aided', [1], [5]),\n",
        " (u'four', [38], [4]),\n",
        " (u'sleep', [11], [5]),\n",
        " (u'mansion', [1], [7]),\n",
        " (u'pheasant', [1], [8]),\n",
        " (u'saved', [9], [5]),\n",
        " (u'kempt', [1], [5]),\n",
        " (u'paris', [1], [5]),\n",
        " (u'characterises', [1], [13]),\n",
        " (u'originality', [1], [11])]"
       ]
      }
     ],
     "prompt_number": 21
    },
    {
     "cell_type": "code",
     "collapsed": false,
     "input": [
      "count.join(wordsLen).take(10)"
     ],
     "language": "python",
     "metadata": {},
     "outputs": [
      {
       "metadata": {},
       "output_type": "pyout",
       "prompt_number": 22,
       "text": [
        "[(u'aided', (1, 5)),\n",
        " (u'four', (38, 4)),\n",
        " (u'sleep', (11, 5)),\n",
        " (u'mansion', (1, 7)),\n",
        " (u'pheasant', (1, 8)),\n",
        " (u'saved', (9, 5)),\n",
        " (u'kempt', (1, 5)),\n",
        " (u'paris', (1, 5)),\n",
        " (u'characterises', (1, 13)),\n",
        " (u'originality', (1, 11))]"
       ]
      }
     ],
     "prompt_number": 22
    },
    {
     "cell_type": "markdown",
     "metadata": {},
     "source": [
      "## Word count "
     ]
    },
    {
     "cell_type": "code",
     "collapsed": false,
     "input": [
      "wordCount = sc.textFile(\"./Sherlock.txt\").flatMap(\n",
      "    lambda x: re.findall(\"[a-zA-z']+\", x)\n",
      ").map(\n",
      "    lambda x: x.strip().lower()\n",
      ").map(\n",
      "    lambda w: (w, 1l)\n",
      ").reduceByKey(\n",
      "    lambda c1, c2: c1 + c2\n",
      ").persist()\n",
      "\n",
      "### Find top N words\n",
      "def top(N):\n",
      "    def reducer(wc1, wc2):\n",
      "        wc = wc1 + wc2\n",
      "        return sorted(wc, key = lambda wc: -wc[1])[:N]\n",
      "    return reducer\n",
      "\n",
      "top10 = wordCount.map(lambda wc: [wc]).reduce(top(10))\n",
      "\n",
      "for word, c in top10:\n",
      "    print word, \"\\t\" , c"
     ],
     "language": "python",
     "metadata": {},
     "outputs": [
      {
       "output_type": "stream",
       "stream": "stdout",
       "text": [
        "the \t5796\n",
        "and \t3069\n",
        "i \t2961\n",
        "to \t2820\n",
        "of \t2778\n",
        "a \t2697\n",
        "in \t1821\n",
        "that \t1751\n",
        "it \t1705\n",
        "you \t1520\n"
       ]
      }
     ],
     "prompt_number": 23
    },
    {
     "cell_type": "markdown",
     "metadata": {},
     "source": [
      "### Zipf's law"
     ]
    },
    {
     "cell_type": "code",
     "collapsed": false,
     "input": [
      "top250 = wordCount.map(lambda wc: [wc]).reduce(top(250))\n",
      "plt.bar(range(250), sorted([ c for w, c in top250 ], reverse=True)[:250], color=\"black\")"
     ],
     "language": "python",
     "metadata": {},
     "outputs": [
      {
       "metadata": {},
       "output_type": "pyout",
       "prompt_number": 42,
       "text": [
        "<Container object of 250 artists>"
       ]
      },
      {
       "metadata": {},
       "output_type": "display_data",
       "png": "[encoded data removed]",
       "text": [
        "<matplotlib.figure.Figure at 0x7fd42f2dfdd0>"
       ]
      }
     ],
     "prompt_number": 42
    },
    {
     "cell_type": "code",
     "collapsed": false,
     "input": [
      "freqByLen = sorted (\n",
      "    wordCount.map(\n",
      "        lambda (w, c): (len(w), c)\n",
      "    ).reduceByKey(\n",
      "        lambda c1, c2: c1 + c2\n",
      "    ).collect(),\n",
      "\n",
      "    key = lambda (l, c): l\n",
      ")"
     ],
     "language": "python",
     "metadata": {},
     "outputs": [],
     "prompt_number": 25
    },
    {
     "cell_type": "code",
     "collapsed": false,
     "input": [
      "plt.bar(range(len(freqByLen)), [ c for (l, c) in freqByLen], color=\"black\")"
     ],
     "language": "python",
     "metadata": {},
     "outputs": [
      {
       "metadata": {},
       "output_type": "pyout",
       "prompt_number": 26,
       "text": [
        "<Container object of 18 artists>"
       ]
      },
      {
       "metadata": {},
       "output_type": "display_data",
       "png": "[encoded data removed]",
       "text": [
        "<matplotlib.figure.Figure at 0x7fd440387150>"
       ]
      }
     ],
     "prompt_number": 26
    },
    {
     "cell_type": "markdown",
     "metadata": {},
     "source": [
      "### Heap's law"
     ]
    },
    {
     "cell_type": "code",
     "collapsed": false,
     "input": [
      "uniqsByLen = list()\n",
      "wordsN = words.count()\n",
      "samples = 10\n",
      "fractions = [ f for i in range(1, 101) for f in [i / 100.0]]\n",
      "\n",
      "counts = list()\n",
      "uniqs = list()\n",
      "for fraction in fractions:\n",
      "    sample = words.sample(withReplacement=False, fraction=fraction).persist()\n",
      "    uniq = sample.countApproxDistinct()\n",
      "    count = sample.count()\n",
      "    uniqs.append(uniq)\n",
      "    counts.append(count)\n",
      "    sample.unpersist()"
     ],
     "language": "python",
     "metadata": {},
     "outputs": [],
     "prompt_number": 39
    },
    {
     "cell_type": "code",
     "collapsed": false,
     "input": [
      "plt.figure()\n",
      "plt.plot(counts, uniqs, \".\")\n",
      "plt.show()"
     ],
     "language": "python",
     "metadata": {},
     "outputs": [
      {
       "metadata": {},
       "output_type": "display_data",
       "png": "[encoded data removed]",
       "text": [
        "<matplotlib.figure.Figure at 0x7fd43bbe5710>"
       ]
      }
     ],
     "prompt_number": 41
    },
    {
     "cell_type": "markdown",
     "metadata": {},
     "source": [
      "# Spark MLlib"
     ]
    },
    {
     "cell_type": "code",
     "collapsed": false,
     "input": [
      "from pyspark.mllib.regression import LabeledPoint\n",
      "from pyspark.mllib.classification import LogisticRegressionWithSGD\n",
      "import pandas as pd"
     ],
     "language": "python",
     "metadata": {},
     "outputs": [],
     "prompt_number": 29
    },
    {
     "cell_type": "code",
     "collapsed": false,
     "input": [
      "from math import isnan\n",
      "\n",
      "def parsePoints(df):\n",
      "    data = list()\n",
      "    for i in xrange(len(df)):\n",
      "        survived = float(df[\"Survived\"][i])\n",
      "        age = float(df[\"Age\"][i])\n",
      "        pClass = float(df[\"Pclass\"][i])\n",
      "        nameL = float(len(df[\"Name\"][i]))\n",
      "        sex = 1.0 if df[\"Sex\"][i] == \"male\" else 0.0\n",
      "        sibSp = float(df[\"SibSp\"][i])\n",
      "        parch = float(df[\"Parch\"][i])\n",
      "        fare = float(df[\"Fare\"][i])\n",
      "        features = [age, pClass, nameL, sex, sibSp, parch, fare]\n",
      "    \n",
      "        if reduce(lambda p1, p2: p1 or p2, map(isnan, features)):\n",
      "            continue\n",
      "        \n",
      "        p = LabeledPoint(survived, [age, pClass])\n",
      "        data.append(p)\n",
      "    return data\n",
      "\n",
      "df = pd.read_csv(\"./train.csv\")\n",
      "data = parsePoints(df)\n",
      "print \"N:\", len(data)\n",
      "train, test = sc.parallelize(data).randomSplit([0.6, 0.4], seed=1l)"
     ],
     "language": "python",
     "metadata": {},
     "outputs": [
      {
       "output_type": "stream",
       "stream": "stdout",
       "text": [
        "N: 714\n"
       ]
      }
     ],
     "prompt_number": 30
    },
    {
     "cell_type": "code",
     "collapsed": false,
     "input": [
      "logisticM = LogisticRegressionWithSGD.train(train, 300)\n",
      "logisticM"
     ],
     "language": "python",
     "metadata": {},
     "outputs": [
      {
       "metadata": {},
       "output_type": "pyout",
       "prompt_number": 31,
       "text": [
        "(weights=[-0.194243871288,-1.5551363382], intercept=0.0)"
       ]
      }
     ],
     "prompt_number": 31
    },
    {
     "cell_type": "code",
     "collapsed": false,
     "input": [
      "validation = test.map(\n",
      "    lambda p: (int(round(p.label)), logisticM.predict(p.features))\n",
      ").persist()\n",
      "\n",
      "validation.take(10)"
     ],
     "language": "python",
     "metadata": {},
     "outputs": [
      {
       "metadata": {},
       "output_type": "pyout",
       "prompt_number": 32,
       "text": [
        "[(0, 0),\n",
        " (1, 0),\n",
        " (0, 0),\n",
        " (1, 0),\n",
        " (1, 0),\n",
        " (0, 0),\n",
        " (0, 0),\n",
        " (0, 0),\n",
        " (1, 0),\n",
        " (0, 0)]"
       ]
      }
     ],
     "prompt_number": 32
    },
    {
     "cell_type": "code",
     "collapsed": false,
     "input": [
      "total = float(validation.count())\n",
      "tp = validation.filter(lambda (real, pred): real == 1 and pred == 1).count() / total\n",
      "fp = validation.filter(lambda (real, pred): real == 0 and pred == 1).count() / total\n",
      "tn = validation.filter(lambda (real, pred): real == 0 and pred == 0).count() / total\n",
      "fn = validation.filter(lambda (real, pred): real == 1 and pred == 0).count() / total\n",
      "\n",
      "print \"tp:\", \"%.2f\" % tp\n",
      "print \"fp:\", \"%.2f\" % fp\n",
      "print \"tn:\", \"%.2f\" % tn\n",
      "print \"fn:\", \"%.2f\" % fn"
     ],
     "language": "python",
     "metadata": {},
     "outputs": [
      {
       "output_type": "stream",
       "stream": "stdout",
       "text": [
        "tp: 0.00\n",
        "fp: 0.00\n",
        "tn: 0.60\n",
        "fn: 0.40\n"
       ]
      }
     ],
     "prompt_number": 33
    },
    {
     "cell_type": "code",
     "collapsed": false,
     "input": [
      "def logistic(w):\n",
      "    def predict(x):\n",
      "        z = w.dot(x)\n",
      "        return 1 / (1 + exp(-z))\n",
      "    return predict\n",
      "\n",
      "predict_proba = logistic(logisticM.weights)\n",
      "predicted_proba = test.map (\n",
      "    lambda p: (p.label, predict_proba(p.features))\n",
      ").collect()"
     ],
     "language": "python",
     "metadata": {},
     "outputs": [],
     "prompt_number": 43
    },
    {
     "cell_type": "code",
     "collapsed": false,
     "input": [
      "from sklearn.metrics import roc_curve, auc\n",
      "\n",
      "# Compute ROC curve and area the curve\n",
      "fpr, tpr, thresholds = roc_curve([ r for r, p in predicted_proba ], [ p for r, p in predicted_proba ])\n",
      "roc_auc = auc(fpr, tpr)\n",
      "\n",
      "# Plot ROC curve\n",
      "\n",
      "fig = plt.figure(figsize=(7,5))\n",
      "ax = fig.add_subplot(111)\n",
      "\n",
      "plt.plot(fpr, tpr, color='lightblue', lw=2, label='ROC curve')\n",
      "plt.plot([0, 1], [0, 1], color='black', lw=2, linestyle='dotted', label='random guessing')\n",
      "plt.xlim([0.0, 1.0])\n",
      "plt.ylim([0.0, 1.0])\n",
      "plt.xlabel('False Positive Rate')\n",
      "plt.ylabel('True Positive Rate')\n",
      "plt.title('Receiver operating characteristic (ROC)')\n",
      "plt.legend(loc=\"lower right\")\n",
      "ax.annotate('AUC = %0.2f' %roc_auc, xy=(0.35, 0.6))\n",
      "plt.show()"
     ],
     "language": "python",
     "metadata": {},
     "outputs": [
      {
       "metadata": {},
       "output_type": "display_data",
       "png": "[encoded data removed]",
       "text": [
        "<matplotlib.figure.Figure at 0x7fd42f15a7d0>"
       ]
      }
     ],
     "prompt_number": 44
    },
    {
     "cell_type": "code",
     "collapsed": false,
     "input": [
      "from pyspark.mllib.tree import GradientBoostedTrees\n",
      "\n",
      "GBTModel = GradientBoostedTrees.trainRegressor(train, dict(), numIterations=20, maxDepth=3)\n",
      "print GBTModel\n",
      "testGBT = [ (p.label, GBTModel.predict(p.features)) for p in test.collect()]"
     ],
     "language": "python",
     "metadata": {},
     "outputs": [
      {
       "output_type": "stream",
       "stream": "stdout",
       "text": [
        "TreeEnsembleModel regressor with 20 trees\n",
        "\n"
       ]
      }
     ],
     "prompt_number": 46
    },
    {
     "cell_type": "code",
     "collapsed": false,
     "input": [
      "from sklearn.metrics import roc_curve, auc\n",
      "\n",
      "# Compute ROC curve and area the curve\n",
      "fpr, tpr, thresholds = roc_curve([ r for r, p in testGBT ], [ p for r, p in testGBT ])\n",
      "roc_auc = auc(fpr, tpr)\n",
      "\n",
      "# Plot ROC curve\n",
      "\n",
      "fig = plt.figure(figsize=(7,5))\n",
      "ax = fig.add_subplot(111)\n",
      "\n",
      "plt.plot(fpr, tpr, color='lightblue', lw=2, label='ROC curve')\n",
      "plt.plot([0, 1], [0, 1], color='black', lw=2, linestyle='dotted', label='random guessing')\n",
      "plt.xlim([0.0, 1.0])\n",
      "plt.ylim([0.0, 1.0])\n",
      "plt.xlabel('False Positive Rate')\n",
      "plt.ylabel('True Positive Rate')\n",
      "plt.title('Receiver operating characteristic (ROC)')\n",
      "plt.legend(loc=\"lower right\")\n",
      "ax.annotate('AUC = %0.2f' %roc_auc, xy=(0.35, 0.6))\n",
      "plt.show()"
     ],
     "language": "python",
     "metadata": {},
     "outputs": [
      {
       "metadata": {},
       "output_type": "display_data",
       "png": "[encoded data removed]",
       "text": [
        "<matplotlib.figure.Figure at 0x7fd42f288f50>"
       ]
      }
     ],
     "prompt_number": 47
    },
    {
     "cell_type": "code",
     "collapsed": false,
     "input": [],
     "language": "python",
     "metadata": {},
     "outputs": [],
     "prompt_number": 37
    }
   ],
   "metadata": {}
  }
 ]
}